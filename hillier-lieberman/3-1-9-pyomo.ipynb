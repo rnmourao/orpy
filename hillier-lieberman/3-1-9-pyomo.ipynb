{
 "cells": [
  {
   "cell_type": "markdown",
   "execution_count": null,
   "metadata": {},
   "outputs": [],
   "source": [
    "The Primo Insurance Company is introducing two new product lines: special risk insurance and mortgages. The expected profit is \\$5 per unit on special risk insurance and \\$2 per unit on mortgages. Management wishes to establish sales quotas for the new product lines to maximize total expected profit. The work requirements are as follows:\n",
    "\n",
    "| Department |  Special Risk | Mortgage | Work-Hours Available |\n",
    "| :--- | :---: | :---: | :---: |\n",
    "| Underwriting | 3 | 2 | 2400 |\n",
    "| Administration | 0 | 1 | 800 |\n",
    "| Claims | 2 | 0 | 1200 |"
   ]
  },
  {
   "cell_type": "code",
   "execution_count": 1,
   "metadata": {},
   "outputs": [],
   "source": [
    "from pyomo.environ import *"
   ]
  },
  {
   "cell_type": "code",
   "execution_count": 2,
   "metadata": {},
   "outputs": [],
   "source": [
    "model = AbstractModel()"
   ]
  },
  {
   "cell_type": "markdown",
   "execution_count": null,
   "metadata": {},
   "outputs": [],
   "source": [
    "## Sets"
   ]
  },
  {
   "cell_type": "code",
   "execution_count": 3,
   "metadata": {},
   "outputs": [],
   "source": [
    "model.products = Set()\n",
    "model.departments = Set()"
   ]
  },
  {
   "cell_type": "markdown",
   "execution_count": null,
   "metadata": {},
   "outputs": [],
   "source": [
    "## Parameters"
   ]
  },
  {
   "cell_type": "code",
   "execution_count": 4,
   "metadata": {},
   "outputs": [],
   "source": [
    "model.products_profit = Param(model.products)\n",
    "model.work_hours_available = Param(model.departments)\n",
    "model.work_hours_per_unit = Param(model.products, model.departments)"
   ]
  },
  {
   "cell_type": "markdown",
   "execution_count": null,
   "metadata": {},
   "outputs": [],
   "source": [
    "## Variables"
   ]
  },
  {
   "cell_type": "code",
   "execution_count": 5,
   "metadata": {},
   "outputs": [],
   "source": [
    "model.quotas = Var(model.products, within=NonNegativeReals)"
   ]
  },
  {
   "cell_type": "markdown",
   "execution_count": null,
   "metadata": {},
   "outputs": [],
   "source": [
    "## Objective"
   ]
  },
  {
   "cell_type": "code",
   "execution_count": 6,
   "metadata": {},
   "outputs": [],
   "source": [
    "def total_profit(model):\n",
    "    return summation(model.products_profit, model.quotas)\n",
    "\n",
    "\n",
    "model.final_profit = Objective(rule=total_profit, sense=maximize)"
   ]
  },
  {
   "cell_type": "markdown",
   "execution_count": null,
   "metadata": {},
   "outputs": [],
   "source": [
    "## Constraints\n"
   ]
  },
  {
   "cell_type": "code",
   "execution_count": 7,
   "metadata": {},
   "outputs": [],
   "source": [
    "def max_work_hours_per_department(model, department):\n",
    "    return sum(model.work_hours_per_unit[p,department] * model.quotas[p] for p in model.products) <= model.work_hours_available[department]\n",
    "\n",
    "\n",
    "model.departments_constraint = Constraint(model.departments, rule=max_work_hours_per_department)"
   ]
  },
  {
   "cell_type": "markdown",
   "execution_count": null,
   "metadata": {},
   "outputs": [],
   "source": [
    "## Instantiate the Model"
   ]
  },
  {
   "cell_type": "code",
   "execution_count": 8,
   "metadata": {},
   "outputs": [],
   "source": [
    "data = { None : { 'products' : { None : ('Special Risk', 'Mortgage') }, \n",
    "                  'departments' : { None : ('Underwriting', 'Administration', 'Claims') },\n",
    "                  'products_profit' : { 'Special Risk' : 5, 'Mortgage' : 2 },\n",
    "                  'work_hours_available' : { 'Underwriting' : 2400, 'Administration' : 800, 'Claims' : 1200 },\n",
    "                  'work_hours_per_unit' : { ('Special Risk', 'Underwriting') : 3, \n",
    "                                            ('Special Risk', 'Administration') : 0,\n",
    "                                            ('Special Risk', 'Claims') : 2, \n",
    "                                            ('Mortgage', 'Underwriting') : 2, \n",
    "                                            ('Mortgage', 'Administration') : 1,\n",
    "                                            ('Mortgage', 'Claims') : 0 }\n",
    "\n",
    "                }\n",
    "        }"
   ]
  },
  {
   "cell_type": "code",
   "execution_count": 9,
   "metadata": {},
   "outputs": [
    {
     "name": "stdout",
     "output_type": "stream",
     "text": "3 Set Declarations\n    departments : Dim=0, Dimen=1, Size=3, Domain=None, Ordered=False, Bounds=None\n        ['Administration', 'Claims', 'Underwriting']\n    products : Dim=0, Dimen=1, Size=2, Domain=None, Ordered=False, Bounds=None\n        ['Mortgage', 'Special Risk']\n    work_hours_per_unit_index : Dim=0, Dimen=2, Size=6, Domain=None, Ordered=False, Bounds=None\n        Virtual\n\n3 Param Declarations\n    products_profit : Size=2, Index=products, Domain=Any, Default=None, Mutable=False\n        Key          : Value\n            Mortgage :     2\n        Special Risk :     5\n    work_hours_available : Size=3, Index=departments, Domain=Any, Default=None, Mutable=False\n        Key            : Value\n        Administration :   800\n                Claims :  1200\n          Underwriting :  2400\n    work_hours_per_unit : Size=6, Index=work_hours_per_unit_index, Domain=Any, Default=None, Mutable=False\n        Key                                : Value\n            ('Mortgage', 'Administration') :     1\n                    ('Mortgage', 'Claims') :     0\n              ('Mortgage', 'Underwriting') :     2\n        ('Special Risk', 'Administration') :     0\n                ('Special Risk', 'Claims') :     2\n          ('Special Risk', 'Underwriting') :     3\n\n1 Var Declarations\n    quotas : Size=2, Index=products\n        Key          : Lower : Value : Upper : Fixed : Stale : Domain\n            Mortgage :     0 :  None :  None : False :  True : NonNegativeReals\n        Special Risk :     0 :  None :  None : False :  True : NonNegativeReals\n\n1 Objective Declarations\n    final_profit : Size=1, Index=None, Active=True\n        Key  : Active : Sense    : Expression\n        None :   True : maximize : 5*quotas[Special Risk] + 2*quotas[Mortgage]\n\n1 Constraint Declarations\n    departments_constraint : Size=3, Index=departments, Active=True\n        Key            : Lower : Body                                        : Upper  : Active\n        Administration :  -Inf :                            quotas[Mortgage] :  800.0 :   True\n                Claims :  -Inf :                      2*quotas[Special Risk] : 1200.0 :   True\n          Underwriting :  -Inf : 3*quotas[Special Risk] + 2*quotas[Mortgage] : 2400.0 :   True\n\n9 Declarations: products departments products_profit work_hours_available work_hours_per_unit_index work_hours_per_unit quotas final_profit departments_constraint\n"
    }
   ],
   "source": [
    "instance = model.create_instance(data)\n",
    "instance.pprint()"
   ]
  },
  {
   "cell_type": "markdown",
   "execution_count": null,
   "metadata": {},
   "outputs": [],
   "source": [
    "## Solve the problem"
   ]
  },
  {
   "cell_type": "code",
   "execution_count": 10,
   "metadata": {},
   "outputs": [],
   "source": [
    "opt = SolverFactory('glpk')"
   ]
  },
  {
   "cell_type": "code",
   "execution_count": 11,
   "metadata": {},
   "outputs": [
    {
     "name": "stdout",
     "output_type": "stream",
     "text": "\nProblem: \n- Name: unknown\n  Lower bound: 3600.0\n  Upper bound: 3600.0\n  Number of objectives: 1\n  Number of constraints: 4\n  Number of variables: 3\n  Number of nonzeros: 5\n  Sense: maximize\nSolver: \n- Status: ok\n  Termination condition: optimal\n  Statistics: \n    Branch and bound: \n      Number of bounded subproblems: 0\n      Number of created subproblems: 0\n  Error rc: 0\n  Time: 0.01265406608581543\nSolution: \n- number of solutions: 1\n  number of solutions displayed: 1\n- Gap: 0.0\n  Status: feasible\n  Message: None\n  Objective:\n    final_profit:\n      Value: 3600\n  Variable:\n    quotas[Mortgage]:\n      Value: 300\n    quotas[Special Risk]:\n      Value: 600\n  Constraint: No values\n\n"
    }
   ],
   "source": [
    "results = opt.solve(instance)\n",
    "instance.solutions.store_to(results)\n",
    "print(results)"
   ]
  }
 ],
 "metadata": {},
 "nbformat": 4,
 "nbformat_minor": 2
}