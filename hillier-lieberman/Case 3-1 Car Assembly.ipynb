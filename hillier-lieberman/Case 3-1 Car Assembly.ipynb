{
 "nbformat": 4,
 "nbformat_minor": 2,
 "metadata": {
  "language_info": {
   "name": "python",
   "codemirror_mode": {
    "name": "ipython",
    "version": 3
   },
   "version": "3.7.5"
  },
  "orig_nbformat": 2,
  "file_extension": ".py",
  "mimetype": "text/x-python",
  "name": "python",
  "npconvert_exporter": "python",
  "pygments_lexer": "ipython3",
  "version": 3
 },
 "cells": [
  {
   "cell_type": "markdown",
   "execution_count": null,
   "metadata": {},
   "outputs": [],
   "source": [
    "Automobile Alliance, a large automobile manufacturing company, organizes the vehicles it manufactures into three families: a family of trucks, a family of small cars, and a family of midsized and luxury cars. One plant outside Detroit, MI, assembles two models from the family of midsized and luxury cars. The first model, the Family Thrillseeker, is a four-door sedan with vinyl seats, plastic interior, standard features, and excellent gas mileage. It is marketed as a smart buy for middle-class families with tight budgets, and each Family Thrillseeker sold generates a modest profit of \\$3,600 for the company. The second model, the Classy Cruiser, is a two-door luxury sedan with leather seats, wooden interior, custom features, and navigational capabilities. It is marketed as a privilege of affluence for upper-middle-class families, and each Classy Cruiser sold generates a healthy profit of \\$5,400 for the company.\n",
    "\n",
    "Rachel Rosencrantz, the manager of the assembly plant, is currently deciding the production schedule for the next month. Specifically, she must decide how many Family Thrillseekers and how many Classy Cruisers to assemble in the plant to maximize profit for the company. She knows that the plant possesses a capacity of 48,000 labor-hours during the month. She also knows that it takes 6 labor-hours to assemble one Family Thrillseeker and 10.5 labor-hours to assemble one Classy Cruiser.\n",
    "\n",
    "Because the plant is simply an assembly plant, the parts required to assemble the two models are not produced at the plant. They are instead shipped from other plants around the Michigan area to the assembly plant. For example, tires, steering wheels, windows, seats, and doors all arrive from various supplier plants. For the next month, Rachel knows that she will be able to obtain only 20,000 doors (10,000 left-hand doors and 10,000 right-hand doors) from the door supplier. A recent labor strike forced the shutdown of that particular supplier plant for several days, and that plant will not be able to meet its production schedule for the next month. Both the Family Thrillseeker and the Classy Cruiser use the same door part.\n",
    "\n",
    "In addition, a recent company forecast of the monthly demands for different automobile models suggests that the demand for the Classy Cruiser is limited to 3,500 cars. There is no limit on the demand for the Family Thrillseeker within the capacity limits of the assembly plant.\n",
    "\n",
    "a) Formulate and solve a linear programming problem to determine the number of Family Thrillseekers and the number of Classy Cruisers that should be assembled."
   ]
  },
  {
   "cell_type": "code",
   "execution_count": 1,
   "metadata": {},
   "outputs": [],
   "source": [
    "from pyomo.environ import *\n",
    "model = AbstractModel()"
   ]
  },
  {
   "cell_type": "code",
   "execution_count": 2,
   "metadata": {},
   "outputs": [],
   "source": [
    "model.cars = Set()"
   ]
  },
  {
   "cell_type": "code",
   "execution_count": 3,
   "metadata": {},
   "outputs": [],
   "source": [
    "model.profit = Param(model.cars)"
   ]
  },
  {
   "cell_type": "code",
   "execution_count": 4,
   "metadata": {},
   "outputs": [],
   "source": [
    "model.work_hours_per_unit = Param(model.cars)\n",
    "model.cars_demand = Param(model.cars)"
   ]
  },
  {
   "cell_type": "code",
   "execution_count": 5,
   "metadata": {},
   "outputs": [],
   "source": [
    "model.hours_available = Param()\n",
    "model.door_pairs_available = Param()"
   ]
  },
  {
   "cell_type": "code",
   "execution_count": 6,
   "metadata": {},
   "outputs": [],
   "source": [
    "model.quotas = Var(model.cars, within=NonNegativeIntegers)"
   ]
  },
  {
   "cell_type": "code",
   "execution_count": 7,
   "metadata": {},
   "outputs": [],
   "source": [
    "model.total_profit = Objective(rule=lambda model: summation(model.profit, model.quotas), sense=maximize)"
   ]
  },
  {
   "cell_type": "code",
   "execution_count": 8,
   "metadata": {},
   "outputs": [],
   "source": [
    "model.doors_constraint = Constraint(rule=lambda model: sum(model.quotas[car] for car in model.cars) <= model.door_pairs_available)"
   ]
  },
  {
   "cell_type": "code",
   "execution_count": 9,
   "metadata": {},
   "outputs": [],
   "source": [
    "model.hours_constraint = Constraint(rule=lambda model: sum(model.work_hours_per_unit[car] * \n",
    "                                                           model.quotas[car] for car in model.cars) <= model.hours_available)"
   ]
  },
  {
   "cell_type": "code",
   "execution_count": 10,
   "metadata": {},
   "outputs": [],
   "source": [
    "model.demand_constraint = Constraint(model.cars, rule=lambda model, car: model.quotas[car] <= model.cars_demand[car])"
   ]
  },
  {
   "cell_type": "code",
   "execution_count": 11,
   "metadata": {},
   "outputs": [],
   "source": [
    "data = { None : { 'cars' : { None : ('Family Thrillseeker', 'Classy Cruiser') }, \n",
    "                  'profit' : { 'Family Thrillseeker' : 3600, 'Classy Cruiser' : 5400 },\n",
    "                  'work_hours_per_unit' : { 'Family Thrillseeker' : 6, 'Classy Cruiser' : 10.5 },\n",
    "                  'cars_demand' : { 'Family Thrillseeker' : float('inf'), 'Classy Cruiser' : 3500},\n",
    "                  'hours_available' : { None: 48000 },\n",
    "                  'door_pairs_available' : { None: 10000 }\n",
    "                }\n",
    "        }"
   ]
  },
  {
   "cell_type": "code",
   "execution_count": 12,
   "metadata": {},
   "outputs": [
    {
     "name": "stdout",
     "output_type": "stream",
     "text": "1 Set Declarations\n    cars : Dim=0, Dimen=1, Size=2, Domain=None, Ordered=False, Bounds=None\n        ['Classy Cruiser', 'Family Thrillseeker']\n\n5 Param Declarations\n    cars_demand : Size=2, Index=cars, Domain=Any, Default=None, Mutable=False\n        Key                 : Value\n             Classy Cruiser :  3500\n        Family Thrillseeker :   inf\n    door_pairs_available : Size=1, Index=None, Domain=Any, Default=None, Mutable=False\n        Key  : Value\n        None : 10000\n    hours_available : Size=1, Index=None, Domain=Any, Default=None, Mutable=False\n        Key  : Value\n        None : 48000\n    profit : Size=2, Index=cars, Domain=Any, Default=None, Mutable=False\n        Key                 : Value\n             Classy Cruiser :  5400\n        Family Thrillseeker :  3600\n    work_hours_per_unit : Size=2, Index=cars, Domain=Any, Default=None, Mutable=False\n        Key                 : Value\n             Classy Cruiser :  10.5\n        Family Thrillseeker :     6\n\n1 Var Declarations\n    quotas : Size=2, Index=cars\n        Key                 : Lower : Value : Upper : Fixed : Stale : Domain\n             Classy Cruiser :     0 :  None :  None : False :  True : NonNegativeIntegers\n        Family Thrillseeker :     0 :  None :  None : False :  True : NonNegativeIntegers\n\n1 Objective Declarations\n    total_profit : Size=1, Index=None, Active=True\n        Key  : Active : Sense    : Expression\n        None :   True : maximize : 3600*quotas[Family Thrillseeker] + 5400*quotas[Classy Cruiser]\n\n3 Constraint Declarations\n    demand_constraint : Size=2, Index=cars, Active=True\n        Key                 : Lower : Body                        : Upper  : Active\n             Classy Cruiser :  -Inf :      quotas[Classy Cruiser] : 3500.0 :   True\n        Family Thrillseeker :  -Inf : quotas[Family Thrillseeker] :   +Inf :   True\n    doors_constraint : Size=1, Index=None, Active=True\n        Key  : Lower : Body                                                 : Upper   : Active\n        None :  -Inf : quotas[Family Thrillseeker] + quotas[Classy Cruiser] : 10000.0 :   True\n    hours_constraint : Size=1, Index=None, Active=True\n        Key  : Lower : Body                                                        : Upper   : Active\n        None :  -Inf : 6*quotas[Family Thrillseeker] + 10.5*quotas[Classy Cruiser] : 48000.0 :   True\n\n11 Declarations: cars profit work_hours_per_unit cars_demand hours_available door_pairs_available quotas total_profit doors_constraint hours_constraint demand_constraint\n"
    }
   ],
   "source": [
    "instance = model.create_instance(data)\n",
    "instance.pprint()"
   ]
  },
  {
   "cell_type": "code",
   "execution_count": 13,
   "metadata": {},
   "outputs": [],
   "source": [
    "opt = SolverFactory('glpk')"
   ]
  },
  {
   "cell_type": "code",
   "execution_count": 14,
   "metadata": {},
   "outputs": [
    {
     "name": "stdout",
     "output_type": "stream",
     "text": "\nProblem: \n- Name: unknown\n  Lower bound: 28800000.0\n  Upper bound: 28800000.0\n  Number of objectives: 1\n  Number of constraints: 4\n  Number of variables: 3\n  Number of nonzeros: 6\n  Sense: maximize\nSolver: \n- Status: ok\n  Termination condition: optimal\n  Statistics: \n    Branch and bound: \n      Number of bounded subproblems: 1\n      Number of created subproblems: 1\n  Error rc: 0\n  Time: 0.017337322235107422\nSolution: \n- number of solutions: 1\n  number of solutions displayed: 1\n- Gap: 0.0\n  Status: optimal\n  Message: None\n  Objective:\n    total_profit:\n      Value: 28800000\n  Variable:\n    quotas[Family Thrillseeker]:\n      Value: 8000\n  Constraint: No values\n\n"
    }
   ],
   "source": [
    "results = opt.solve(instance)\n",
    "instance.solutions.store_to(results)\n",
    "print(results)"
   ]
  },
  {
   "cell_type": "markdown",
   "execution_count": null,
   "metadata": {},
   "outputs": [],
   "source": [
    "Before she makes her final production decisions, Rachel plans to explore the following questions independently except where otherwise indicated.\n",
    "\n",
    "b) The marketing department knows that it can pursue a targeted $500,000 advertising campaign that will raise the demand for the Classy Cruiser next month by 20 percent. Should the campaign be undertaken?"
   ]
  },
  {
   "cell_type": "markdown",
   "execution_count": null,
   "metadata": {},
   "outputs": [],
   "source": [
    "No."
   ]
  },
  {
   "cell_type": "markdown",
   "execution_count": null,
   "metadata": {},
   "outputs": [],
   "source": [
    "c) Rachel knows that she can increase next month’s plant capacity by using overtime labor. She can increase the plant’s labor-hour capacity by 25 percent. With the new assembly plant capacity, how many Family Thrillseekers and how many Classy Cruisers should be assembled?\n",
    "\n"
   ]
  },
  {
   "cell_type": "code",
   "execution_count": 19,
   "metadata": {},
   "outputs": [
    {
     "data": {
      "text/plain": "60000.0"
     },
     "execution_count": 19,
     "metadata": {},
     "output_type": "execute_result"
    }
   ],
   "source": [
    "new_capacity = 48000 * 1.25\n",
    "new_capacity"
   ]
  },
  {
   "cell_type": "code",
   "execution_count": 21,
   "metadata": {},
   "outputs": [],
   "source": [
    "data = { None : { 'cars' : { None : ('Family Thrillseeker', 'Classy Cruiser') }, \n",
    "                  'profit' : { 'Family Thrillseeker' : 3600, 'Classy Cruiser' : 5400 },\n",
    "                  'work_hours_per_unit' : { 'Family Thrillseeker' : 6, 'Classy Cruiser' : 10.5 },\n",
    "                  'cars_demand' : { 'Family Thrillseeker' : float('inf'), 'Classy Cruiser' : 3500},\n",
    "                  'hours_available' : { None: new_capacity },\n",
    "                  'door_pairs_available' : { None: 10000 }\n",
    "                }\n",
    "        }"
   ]
  },
  {
   "cell_type": "code",
   "execution_count": 22,
   "metadata": {},
   "outputs": [
    {
     "name": "stdout",
     "output_type": "stream",
     "text": "1 Set Declarations\n    cars : Dim=0, Dimen=1, Size=2, Domain=None, Ordered=False, Bounds=None\n        ['Classy Cruiser', 'Family Thrillseeker']\n\n5 Param Declarations\n    cars_demand : Size=2, Index=cars, Domain=Any, Default=None, Mutable=False\n        Key                 : Value\n             Classy Cruiser :  3500\n        Family Thrillseeker :   inf\n    door_pairs_available : Size=1, Index=None, Domain=Any, Default=None, Mutable=False\n        Key  : Value\n        None : 10000\n    hours_available : Size=1, Index=None, Domain=Any, Default=None, Mutable=False\n        Key  : Value\n        None : 60000.0\n    profit : Size=2, Index=cars, Domain=Any, Default=None, Mutable=False\n        Key                 : Value\n             Classy Cruiser :  5400\n        Family Thrillseeker :  3600\n    work_hours_per_unit : Size=2, Index=cars, Domain=Any, Default=None, Mutable=False\n        Key                 : Value\n             Classy Cruiser :  10.5\n        Family Thrillseeker :     6\n\n1 Var Declarations\n    quotas : Size=2, Index=cars\n        Key                 : Lower : Value : Upper : Fixed : Stale : Domain\n             Classy Cruiser :     0 :  None :  None : False :  True : NonNegativeIntegers\n        Family Thrillseeker :     0 :  None :  None : False :  True : NonNegativeIntegers\n\n1 Objective Declarations\n    total_profit : Size=1, Index=None, Active=True\n        Key  : Active : Sense    : Expression\n        None :   True : maximize : 3600*quotas[Family Thrillseeker] + 5400*quotas[Classy Cruiser]\n\n3 Constraint Declarations\n    demand_constraint : Size=2, Index=cars, Active=True\n        Key                 : Lower : Body                        : Upper  : Active\n             Classy Cruiser :  -Inf :      quotas[Classy Cruiser] : 3500.0 :   True\n        Family Thrillseeker :  -Inf : quotas[Family Thrillseeker] :   +Inf :   True\n    doors_constraint : Size=1, Index=None, Active=True\n        Key  : Lower : Body                                                 : Upper   : Active\n        None :  -Inf : quotas[Family Thrillseeker] + quotas[Classy Cruiser] : 10000.0 :   True\n    hours_constraint : Size=1, Index=None, Active=True\n        Key  : Lower : Body                                                        : Upper   : Active\n        None :  -Inf : 6*quotas[Family Thrillseeker] + 10.5*quotas[Classy Cruiser] : 60000.0 :   True\n\n11 Declarations: cars profit work_hours_per_unit cars_demand hours_available door_pairs_available quotas total_profit doors_constraint hours_constraint demand_constraint\n"
    }
   ],
   "source": [
    "instance = model.create_instance(data)\n",
    "instance.pprint()"
   ]
  },
  {
   "cell_type": "code",
   "execution_count": 23,
   "metadata": {},
   "outputs": [
    {
     "name": "stdout",
     "output_type": "stream",
     "text": "\nProblem: \n- Name: unknown\n  Lower bound: 36000000.0\n  Upper bound: 36000000.0\n  Number of objectives: 1\n  Number of constraints: 4\n  Number of variables: 3\n  Number of nonzeros: 6\n  Sense: maximize\nSolver: \n- Status: ok\n  Termination condition: optimal\n  Statistics: \n    Branch and bound: \n      Number of bounded subproblems: 1\n      Number of created subproblems: 1\n  Error rc: 0\n  Time: 0.016556739807128906\nSolution: \n- number of solutions: 1\n  number of solutions displayed: 1\n- Gap: 0.0\n  Status: optimal\n  Message: None\n  Objective:\n    total_profit:\n      Value: 36000000\n  Variable:\n    quotas[Family Thrillseeker]:\n      Value: 10000\n  Constraint: No values\n\n"
    }
   ],
   "source": [
    "results = opt.solve(instance)\n",
    "instance.solutions.store_to(results)\n",
    "print(results)"
   ]
  },
  {
   "cell_type": "markdown",
   "execution_count": null,
   "metadata": {},
   "outputs": [],
   "source": [
    "d) Rachel knows that overtime labor does not come without an extra cost. What is the maximum amount she should be willing to  pay for all overtime labor beyond the cost of this labor at regular time rates? Express your answer as a lump sum."
   ]
  },
  {
   "cell_type": "code",
   "execution_count": null,
   "metadata": {},
   "outputs": [],
   "source": []
  },
  {
   "cell_type": "markdown",
   "execution_count": null,
   "metadata": {},
   "outputs": [],
   "source": [
    "e) Rachel explores the option of using both the targeted advertising campaign and the overtime labor-hours. The advertising campaign raises the demand for the Classy Cruiser by 20 percent, and the overtime labor increases the plant’s labor-hour capacity by 25 percent. How many Family Thrillseekers and how many Classy Cruisers should be assembled using the advertising campaign and overtime labor-hours if the profit from each Classy Cruiser sold continues to be 50 percent more than for each Family Thrillseeker sold?"
   ]
  },
  {
   "cell_type": "code",
   "execution_count": null,
   "metadata": {},
   "outputs": [],
   "source": []
  },
  {
   "cell_type": "markdown",
   "execution_count": null,
   "metadata": {},
   "outputs": [],
   "source": [
    "f) Knowing that the advertising campaign costs \\$500,000 and the maximum usage of overtime labor-hours costs \\$1,600,000 beyond regular time rates, is the solution found in part e) a wise decision compared to the solution found in part a)?"
   ]
  },
  {
   "cell_type": "code",
   "execution_count": null,
   "metadata": {},
   "outputs": [],
   "source": []
  },
  {
   "cell_type": "markdown",
   "execution_count": null,
   "metadata": {},
   "outputs": [],
   "source": [
    "g) Automobile Alliance has determined that dealerships are actually heavily discounting the price of the Family Thrillseekers to move them off the lot. Because of a profit-sharing agreement with its dealers, the company is therefore not making a profit of \\$3,600 on the Family Thrillseeker but is instead making a profit of \\$2,800. Determine the number of Family Thrillseekers and the number of Classy Cruisers that should be assembled given this new discounted price."
   ]
  },
  {
   "cell_type": "code",
   "execution_count": null,
   "metadata": {},
   "outputs": [],
   "source": []
  },
  {
   "cell_type": "markdown",
   "execution_count": null,
   "metadata": {},
   "outputs": [],
   "source": [
    "h) The company has discovered quality problems with the Family Thrillseeker by randomly testing Thrillseekers at the end of the assembly line. Inspectors have discovered that in over 60 percent of the cases, two of the four doors on a Thrillseeker do not seal properly. Because the percentage of defective Thrillseekers determined by the random testing is so high, the floor supervisor has decided to perform quality control tests on every Thrillseeker at the end of the line. Because of the added tests, the time it takes to assemble one Family Thrillseeker has increased from 6 to 7.5 hours. Determine the number of units of each model that should be assembled given the new assembly time for the Family Thrillseeker."
   ]
  },
  {
   "cell_type": "code",
   "execution_count": null,
   "metadata": {},
   "outputs": [],
   "source": []
  },
  {
   "cell_type": "markdown",
   "execution_count": null,
   "metadata": {},
   "outputs": [],
   "source": [
    "i) The board of directors of Automobile Alliance wishes to capture a larger share of the luxury sedan market and therefore would like to meet the full demand for Classy Cruisers. They ask Rachel to determine by how much the profit of her assembly plant would decrease as compared to the profit found in part a). They then ask her to meet the full demand for Classy Cruisers if the decrease in profit is not more than $2,000,000."
   ]
  },
  {
   "cell_type": "code",
   "execution_count": null,
   "metadata": {},
   "outputs": [],
   "source": []
  },
  {
   "cell_type": "markdown",
   "execution_count": null,
   "metadata": {},
   "outputs": [],
   "source": [
    "j) Rachel now makes her final decision by combining all the new considerations described in parts f), g), and h). What are her final decisions on whether to undertake the advertising campaign, whether to use overtime labor, the number of Family Thrillseekers to assemble, and the number of Classy Cruisers to assemble?"
   ]
  },
  {
   "cell_type": "code",
   "execution_count": null,
   "metadata": {},
   "outputs": [],
   "source": []
  }
 ]
}