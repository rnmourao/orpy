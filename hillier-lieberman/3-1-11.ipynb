{
 "nbformat": 4,
 "nbformat_minor": 2,
 "metadata": {
  "language_info": {
   "name": "python",
   "codemirror_mode": {
    "name": "ipython",
    "version": 3
   },
   "version": "3.7.5"
  },
  "orig_nbformat": 2,
  "file_extension": ".py",
  "mimetype": "text/x-python",
  "name": "python",
  "npconvert_exporter": "python",
  "pygments_lexer": "ipython3",
  "version": 3
 },
 "cells": [
  {
   "cell_type": "markdown",
   "execution_count": null,
   "metadata": {},
   "outputs": [],
   "source": [
    "The Omega Manufacturing Company has discontinued the production of a certain unprofitable product line. This act created considerable excess production capacity. Management is considering devoting this excess capacity to one or more of three products; call them products $1$, $2$, and $3$. The available capacity on the machines that might limit output is summarized in the following table:\n",
    "\n",
    "| Machine Type | Available Time (Machine hours per week) |\n",
    "| :--- | :---: |\n",
    "| Miling machine | 500 |\n",
    "| Lathe | 350 |\n",
    "| Grinder | 150 |\n",
    "\n",
    "The number of machine hours required for each unit of the respective products is\n",
    "\n",
    "| Machine Type | Product 1 | Product 2 | Product 3 |\n",
    "| :--- | :---: | :---: | :---: |\n",
    "| Milling machine | 9 | 3 | 5 |\n",
    "| Lathe | 5 | 4 | 0 |\n",
    "| Grinder | 3 | 0 | 2 |\n",
    "\n",
    "\n",
    "The sales department indicates that the sales potential for products $1$ and $2$ exceeds the maximum production rate and that the sales potential for product $3$ is $20$ units per week. The unit profit would be $\\$50$, $\\$20$, and $\\$25$, respectively, on products $1$, $2$, and $3$. The objective is to determine how much of each product Omega should produce to maximize profit.\n"
   ]
  },
  {
   "source": [
    "from pyomo.environ import *"
   ],
   "cell_type": "code",
   "outputs": [],
   "metadata": {},
   "execution_count": 1
  },
  {
   "source": [
    "model = AbstractModel()"
   ],
   "cell_type": "code",
   "outputs": [],
   "metadata": {},
   "execution_count": 2
  },
  {
   "source": [
    "model.products = Set()\n",
    "model.machines = Set()"
   ],
   "cell_type": "code",
   "outputs": [],
   "metadata": {},
   "execution_count": 3
  },
  {
   "source": [
    "model.available_time = Param(model.machines)\n",
    "model.machine_hour_per_product = Param(model.machines, model.products)\n",
    "model.unit_profit = Param(model.products)"
   ],
   "cell_type": "code",
   "outputs": [],
   "metadata": {},
   "execution_count": 4
  },
  {
   "source": [
    "model.quotas = Var(model.products, within=NonNegativeIntegers)"
   ],
   "cell_type": "code",
   "outputs": [],
   "metadata": {},
   "execution_count": 5
  },
  {
   "source": [
    "def total_profit(model):\n",
    "    return summation(model.unit_profit, model.quotas)\n",
    "\n",
    "\n",
    "model.profit = Objective(rule=total_profit, sense=maximize)"
   ],
   "cell_type": "code",
   "outputs": [],
   "metadata": {},
   "execution_count": 6
  },
  {
   "source": [
    "def maximum_machine_hours(model, machine):\n",
    "    return sum(model.machine_hour_per_product[machine, product] * model.quotas[product] for product in model.products) <= model.available_time[machine]\n",
    "\n",
    "model.machines_constraint = Constraint(model.machines, rule=maximum_machine_hours)    "
   ],
   "cell_type": "code",
   "outputs": [],
   "metadata": {},
   "execution_count": 7
  },
  {
   "source": [
    "def sales_potential(model, product):\n",
    "    if product == 3:\n",
    "        return model.quotas[product] <= 20\n",
    "    else:\n",
    "        return Constraint.Feasible\n",
    "\n",
    "model.sales_potential_constraint = Constraint(model.products, rule=sales_potential)"
   ],
   "cell_type": "code",
   "outputs": [],
   "metadata": {},
   "execution_count": 8
  },
  {
   "source": [
    "data = { None: { 'products': { None: (1, 2, 3 ) },\n",
    "                 'machines': { None: ('Milling machine', 'Lathe', 'Grinder')} ,\n",
    "                 'available_time': { 'Milling machine': 500,\n",
    "                                     'Lathe': 350,\n",
    "                                     'Grinder': 150\n",
    "                                   },\n",
    "                 'machine_hour_per_product': { ('Milling machine', 1): 9,\n",
    "                                               ('Milling machine', 2): 3,\n",
    "                                               ('Milling machine', 3): 5,\n",
    "                                               ('Lathe', 1): 5,\n",
    "                                               ('Lathe', 2): 4,\n",
    "                                               ('Lathe', 3): 0,\n",
    "                                               ('Grinder', 1): 3,\n",
    "                                               ('Grinder', 2): 0,\n",
    "                                               ('Grinder', 3): 2\n",
    "                                             },\n",
    "                 'unit_profit': { 1: 50,\n",
    "                                  2: 20,\n",
    "                                  3: 25\n",
    "                                }\n",
    "               } \n",
    "       }"
   ],
   "cell_type": "code",
   "outputs": [],
   "metadata": {},
   "execution_count": 9
  },
  {
   "source": [
    "instance = model.create_instance(data)\n",
    "instance.pprint()"
   ],
   "cell_type": "code",
   "outputs": [
    {
     "output_type": "stream",
     "name": "stdout",
     "text": "3 Set Declarations\n    machine_hour_per_product_index : Dim=0, Dimen=2, Size=9, Domain=None, Ordered=False, Bounds=None\n        Virtual\n    machines : Dim=0, Dimen=1, Size=3, Domain=None, Ordered=False, Bounds=None\n        ['Grinder', 'Lathe', 'Milling machine']\n    products : Dim=0, Dimen=1, Size=3, Domain=None, Ordered=False, Bounds=(1, 3)\n        [1, 2, 3]\n\n3 Param Declarations\n    available_time : Size=3, Index=machines, Domain=Any, Default=None, Mutable=False\n        Key             : Value\n                Grinder :   150\n                  Lathe :   350\n        Milling machine :   500\n    machine_hour_per_product : Size=9, Index=machine_hour_per_product_index, Domain=Any, Default=None, Mutable=False\n        Key                    : Value\n                ('Grinder', 1) :     3\n                ('Grinder', 2) :     0\n                ('Grinder', 3) :     2\n                  ('Lathe', 1) :     5\n                  ('Lathe', 2) :     4\n                  ('Lathe', 3) :     0\n        ('Milling machine', 1) :     9\n        ('Milling machine', 2) :     3\n        ('Milling machine', 3) :     5\n    unit_profit : Size=3, Index=products, Domain=Any, Default=None, Mutable=False\n        Key : Value\n          1 :    50\n          2 :    20\n          3 :    25\n\n1 Var Declarations\n    quotas : Size=3, Index=products\n        Key : Lower : Value : Upper : Fixed : Stale : Domain\n          1 :     0 :  None :  None : False :  True : NonNegativeIntegers\n          2 :     0 :  None :  None : False :  True : NonNegativeIntegers\n          3 :     0 :  None :  None : False :  True : NonNegativeIntegers\n\n1 Objective Declarations\n    profit : Size=1, Index=None, Active=True\n        Key  : Active : Sense    : Expression\n        None :   True : maximize : 50*quotas[1] + 20*quotas[2] + 25*quotas[3]\n\n2 Constraint Declarations\n    machines_constraint : Size=3, Index=machines, Active=True\n        Key             : Lower : Body                                    : Upper : Active\n                Grinder :  -Inf :               3*quotas[1] + 2*quotas[3] : 150.0 :   True\n                  Lathe :  -Inf :               5*quotas[1] + 4*quotas[2] : 350.0 :   True\n        Milling machine :  -Inf : 9*quotas[1] + 3*quotas[2] + 5*quotas[3] : 500.0 :   True\n    sales_potential_constraint : Size=1, Index=products, Active=True\n        Key : Lower : Body      : Upper : Active\n          3 :  -Inf : quotas[3] :  20.0 :   True\n\n10 Declarations: products machines available_time machine_hour_per_product_index machine_hour_per_product unit_profit quotas profit machines_constraint sales_potential_constraint\n"
    }
   ],
   "metadata": {},
   "execution_count": 10
  },
  {
   "source": [
    "opt = SolverFactory('glpk')"
   ],
   "cell_type": "code",
   "outputs": [],
   "metadata": {},
   "execution_count": 11
  },
  {
   "source": [
    "results = opt.solve(instance)\n",
    "instance.solutions.store_to(results)\n",
    "print(results)"
   ],
   "cell_type": "code",
   "outputs": [
    {
     "output_type": "stream",
     "name": "stdout",
     "text": "\nProblem: \n- Name: unknown\n  Lower bound: 2900.0\n  Upper bound: 2900.0\n  Number of objectives: 1\n  Number of constraints: 5\n  Number of variables: 4\n  Number of nonzeros: 9\n  Sense: maximize\nSolver: \n- Status: ok\n  Termination condition: optimal\n  Statistics: \n    Branch and bound: \n      Number of bounded subproblems: 1\n      Number of created subproblems: 1\n  Error rc: 0\n  Time: 0.01625370979309082\nSolution: \n- number of solutions: 1\n  number of solutions displayed: 1\n- Gap: 0.0\n  Status: optimal\n  Message: None\n  Objective:\n    profit:\n      Value: 2900\n  Variable:\n    quotas[1]:\n      Value: 26\n    quotas[2]:\n      Value: 55\n    quotas[3]:\n      Value: 20\n  Constraint: No values\n\n"
    }
   ],
   "metadata": {},
   "execution_count": 12
  }
 ]
}