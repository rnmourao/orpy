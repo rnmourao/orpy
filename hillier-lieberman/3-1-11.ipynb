{
 "nbformat": 4,
 "nbformat_minor": 2,
 "metadata": {
  "language_info": {
   "name": "python",
   "codemirror_mode": {
    "name": "ipython",
    "version": 3
   },
   "version": "3.7.5"
  },
  "orig_nbformat": 2,
  "file_extension": ".py",
  "mimetype": "text/x-python",
  "name": "python",
  "npconvert_exporter": "python",
  "pygments_lexer": "ipython3",
  "version": 3
 },
 "cells": [
  {
   "cell_type": "markdown",
   "execution_count": null,
   "metadata": {},
   "outputs": [],
   "source": [
    "The Omega Manufacturing Company has discontinued the production of a certain unprofitable product line. This act created considerable excess production capacity. Management is considering devoting this excess capacity to one or more of three products; call them products $1$, $2$, and $3$. The available capacity on the machines that might limit output is summarized in the following table:\n",
    "\n",
    "| Machine Type | Available Time (Machine hours per week) |\n",
    "| :--- | :---: |\n",
    "| Miling machine | 500 |\n",
    "| Lathe | 350 |\n",
    "| Grinder | 150 |\n",
    "\n",
    "The number of machine hours required for each unit of the respective products is\n",
    "\n",
    "| Machine Type | Product 1 | Product 2 | Product 3 |\n",
    "| :--- | :---: | :---: | :---: |\n",
    "| Milling machine | 9 | 3 | 5 |\n",
    "| Lathe | 5 | 4 | 0 |\n",
    "| Grinder | 3 | 0 | 2 |\n",
    "\n",
    "\n",
    "The sales department indicates that the sales potential for products $1$ and $2$ exceeds the maximum production rate and that the sales potential for product $3$ is $20$ units per week. The unit profit would be $\\$50$, $\\$20$, and $\\$25$, respectively, on products $1$, $2$, and $3$. The objective is to determine how much of each product Omega should produce to maximize profit.\n"
   ]
  },
  {
   "cell_type": "code",
   "execution_count": 16,
   "metadata": {},
   "outputs": [],
   "source": [
    "from pyomo.environ import *"
   ]
  },
  {
   "cell_type": "code",
   "execution_count": 17,
   "metadata": {},
   "outputs": [],
   "source": [
    "model = AbstractModel()"
   ]
  },
  {
   "cell_type": "code",
   "execution_count": 18,
   "metadata": {},
   "outputs": [],
   "source": [
    "model.products = Set()\n",
    "model.machines = Set()"
   ]
  },
  {
   "cell_type": "code",
   "execution_count": 19,
   "metadata": {},
   "outputs": [],
   "source": [
    "model.available_time = Param(model.machines)\n",
    "model.machine_hour_per_product = Param(model.machines, model.products)\n",
    "model.unit_profit = Param(model.products)"
   ]
  },
  {
   "cell_type": "code",
   "execution_count": 20,
   "metadata": {},
   "outputs": [],
   "source": [
    "model.quotas = Var(model.products, within=NonNegativeReals)"
   ]
  },
  {
   "cell_type": "code",
   "execution_count": 21,
   "metadata": {},
   "outputs": [],
   "source": [
    "def total_profit(model):\n",
    "    return summation(model.unit_profit, model.quotas)\n",
    "\n",
    "\n",
    "model.profit = Objective(rule=total_profit, sense=maximize)"
   ]
  },
  {
   "cell_type": "code",
   "execution_count": 22,
   "metadata": {},
   "outputs": [],
   "source": [
    "def maximum_machine_hours(model, machine):\n",
    "    return sum(model.machine_hour_per_product[machine, product] * model.quotas[product] for product in model.products) <= model.available_time[machine]\n",
    "\n",
    "model.machines_constraint = Constraint(model.machines, rule=maximum_machine_hours)    "
   ]
  },
  {
   "cell_type": "code",
   "execution_count": 23,
   "metadata": {},
   "outputs": [],
   "source": [
    "def sales_potential(model, product):\n",
    "    if product == 3:\n",
    "        return model.quotas[product] <= 20\n",
    "    else:\n",
    "        return Constraint.Feasible\n",
    "\n",
    "model.sales_potential_constraint = Constraint(model.products, rule=sales_potential)"
   ]
  },
  {
   "cell_type": "code",
   "execution_count": 24,
   "metadata": {},
   "outputs": [],
   "source": [
    "data = { None: { 'products': { None: (1, 2, 3 ) },\n",
    "                 'machines': { None: ('Milling machine', 'Lathe', 'Grinder')} ,\n",
    "                 'available_time': { 'Milling machine': 500,\n",
    "                                     'Lathe': 350,\n",
    "                                     'Grinder': 150\n",
    "                                   },\n",
    "                 'machine_hour_per_product': { ('Milling machine', 1): 9,\n",
    "                                               ('Milling machine', 2): 3,\n",
    "                                               ('Milling machine', 3): 5,\n",
    "                                               ('Lathe', 1): 5,\n",
    "                                               ('Lathe', 2): 4,\n",
    "                                               ('Lathe', 3): 0,\n",
    "                                               ('Grinder', 1): 3,\n",
    "                                               ('Grinder', 2): 0,\n",
    "                                               ('Grinder', 3): 2\n",
    "                                             },\n",
    "                 'unit_profit': { 1: 50,\n",
    "                                  2: 20,\n",
    "                                  3: 25\n",
    "                                }\n",
    "               } \n",
    "       }"
   ]
  },
  {
   "cell_type": "code",
   "execution_count": 25,
   "metadata": {},
   "outputs": [
    {
     "name": "stdout",
     "output_type": "stream",
     "text": "ERROR: Constructing component 'sales_potential_constraint' from data=None\n    failed:\n        ValueError: Invalid constraint expression. The constraint expression\n        resolved to a trivial Boolean (True) instead of a Pyomo object. Please\n        modify your rule to return Constraint.Feasible instead of True.\n\n    Error thrown for Constraint 'sales_potential_constraint[1]'\n"
    },
    {
     "ename": "ValueError",
     "evalue": "Invalid constraint expression. The constraint expression resolved to a trivial Boolean (True) instead of a Pyomo object. Please modify your rule to return Constraint.Feasible instead of True.\n\nError thrown for Constraint 'sales_potential_constraint[1]'",
     "output_type": "error",
     "traceback": [
      "\u001b[0;31m---------------------------------------------------------------------------\u001b[0m",
      "\u001b[0;31mValueError\u001b[0m                                Traceback (most recent call last)",
      "\u001b[0;32m<ipython-input-25-6166d9d5bfd2>\u001b[0m in \u001b[0;36m<module>\u001b[0;34m\u001b[0m\n\u001b[0;32m----> 1\u001b[0;31m \u001b[0minstance\u001b[0m \u001b[0;34m=\u001b[0m \u001b[0mmodel\u001b[0m\u001b[0;34m.\u001b[0m\u001b[0mcreate_instance\u001b[0m\u001b[0;34m(\u001b[0m\u001b[0mdata\u001b[0m\u001b[0;34m)\u001b[0m\u001b[0;34m\u001b[0m\u001b[0;34m\u001b[0m\u001b[0m\n\u001b[0m\u001b[1;32m      2\u001b[0m \u001b[0minstance\u001b[0m\u001b[0;34m.\u001b[0m\u001b[0mpprint\u001b[0m\u001b[0;34m(\u001b[0m\u001b[0;34m)\u001b[0m\u001b[0;34m\u001b[0m\u001b[0;34m\u001b[0m\u001b[0m\n",
      "\u001b[0;32m~/github.com/rnmourao/orpy/venv/lib/python3.7/site-packages/pyomo/core/base/PyomoModel.py\u001b[0m in \u001b[0;36mcreate_instance\u001b[0;34m(self, filename, data, name, namespace, namespaces, profile_memory, report_timing, **kwds)\u001b[0m\n\u001b[1;32m    733\u001b[0m         instance.load( data,\n\u001b[1;32m    734\u001b[0m                        \u001b[0mnamespaces\u001b[0m\u001b[0;34m=\u001b[0m\u001b[0m_namespaces\u001b[0m\u001b[0;34m,\u001b[0m\u001b[0;34m\u001b[0m\u001b[0;34m\u001b[0m\u001b[0m\n\u001b[0;32m--> 735\u001b[0;31m                        profile_memory=profile_memory )\n\u001b[0m\u001b[1;32m    736\u001b[0m \u001b[0;34m\u001b[0m\u001b[0m\n\u001b[1;32m    737\u001b[0m         \u001b[0;31m#\u001b[0m\u001b[0;34m\u001b[0m\u001b[0;34m\u001b[0m\u001b[0;34m\u001b[0m\u001b[0m\n",
      "\u001b[0;32m~/github.com/rnmourao/orpy/venv/lib/python3.7/site-packages/pyomo/core/base/PyomoModel.py\u001b[0m in \u001b[0;36mload\u001b[0;34m(self, arg, namespaces, profile_memory, report_timing)\u001b[0m\n\u001b[1;32m    816\u001b[0m         self._load_model_data(dp,\n\u001b[1;32m    817\u001b[0m                               \u001b[0mnamespaces\u001b[0m\u001b[0;34m,\u001b[0m\u001b[0;34m\u001b[0m\u001b[0;34m\u001b[0m\u001b[0m\n\u001b[0;32m--> 818\u001b[0;31m                               profile_memory=profile_memory)\n\u001b[0m\u001b[1;32m    819\u001b[0m \u001b[0;34m\u001b[0m\u001b[0m\n\u001b[1;32m    820\u001b[0m     \u001b[0;32mdef\u001b[0m \u001b[0m_tuplize\u001b[0m\u001b[0;34m(\u001b[0m\u001b[0mself\u001b[0m\u001b[0;34m,\u001b[0m \u001b[0mdata\u001b[0m\u001b[0;34m,\u001b[0m \u001b[0msetobj\u001b[0m\u001b[0;34m)\u001b[0m\u001b[0;34m:\u001b[0m\u001b[0;34m\u001b[0m\u001b[0;34m\u001b[0m\u001b[0m\n",
      "\u001b[0;32m~/github.com/rnmourao/orpy/venv/lib/python3.7/site-packages/pyomo/core/base/PyomoModel.py\u001b[0m in \u001b[0;36m_load_model_data\u001b[0;34m(self, modeldata, namespaces, **kwds)\u001b[0m\n\u001b[1;32m    880\u001b[0m                     \u001b[0;32mcontinue\u001b[0m\u001b[0;34m\u001b[0m\u001b[0;34m\u001b[0m\u001b[0m\n\u001b[1;32m    881\u001b[0m \u001b[0;34m\u001b[0m\u001b[0m\n\u001b[0;32m--> 882\u001b[0;31m                 \u001b[0mself\u001b[0m\u001b[0;34m.\u001b[0m\u001b[0m_initialize_component\u001b[0m\u001b[0;34m(\u001b[0m\u001b[0mmodeldata\u001b[0m\u001b[0;34m,\u001b[0m \u001b[0mnamespaces\u001b[0m\u001b[0;34m,\u001b[0m \u001b[0mcomponent_name\u001b[0m\u001b[0;34m,\u001b[0m \u001b[0mprofile_memory\u001b[0m\u001b[0;34m)\u001b[0m\u001b[0;34m\u001b[0m\u001b[0;34m\u001b[0m\u001b[0m\n\u001b[0m\u001b[1;32m    883\u001b[0m                 \u001b[0;32mif\u001b[0m \u001b[0;32mFalse\u001b[0m\u001b[0;34m:\u001b[0m\u001b[0;34m\u001b[0m\u001b[0;34m\u001b[0m\u001b[0m\n\u001b[1;32m    884\u001b[0m                     \u001b[0mtotal_time\u001b[0m \u001b[0;34m=\u001b[0m \u001b[0mtime\u001b[0m\u001b[0;34m.\u001b[0m\u001b[0mtime\u001b[0m\u001b[0;34m(\u001b[0m\u001b[0;34m)\u001b[0m \u001b[0;34m-\u001b[0m \u001b[0mstart_time\u001b[0m\u001b[0;34m\u001b[0m\u001b[0;34m\u001b[0m\u001b[0m\n",
      "\u001b[0;32m~/github.com/rnmourao/orpy/venv/lib/python3.7/site-packages/pyomo/core/base/PyomoModel.py\u001b[0m in \u001b[0;36m_initialize_component\u001b[0;34m(self, modeldata, namespaces, component_name, profile_memory)\u001b[0m\n\u001b[1;32m    934\u001b[0m                           declaration.name, _blockName, str(data) )\n\u001b[1;32m    935\u001b[0m         \u001b[0;32mtry\u001b[0m\u001b[0;34m:\u001b[0m\u001b[0;34m\u001b[0m\u001b[0;34m\u001b[0m\u001b[0m\n\u001b[0;32m--> 936\u001b[0;31m             \u001b[0mdeclaration\u001b[0m\u001b[0;34m.\u001b[0m\u001b[0mconstruct\u001b[0m\u001b[0;34m(\u001b[0m\u001b[0mdata\u001b[0m\u001b[0;34m)\u001b[0m\u001b[0;34m\u001b[0m\u001b[0;34m\u001b[0m\u001b[0m\n\u001b[0m\u001b[1;32m    937\u001b[0m         \u001b[0;32mexcept\u001b[0m\u001b[0;34m:\u001b[0m\u001b[0;34m\u001b[0m\u001b[0;34m\u001b[0m\u001b[0m\n\u001b[1;32m    938\u001b[0m             \u001b[0merr\u001b[0m \u001b[0;34m=\u001b[0m \u001b[0msys\u001b[0m\u001b[0;34m.\u001b[0m\u001b[0mexc_info\u001b[0m\u001b[0;34m(\u001b[0m\u001b[0;34m)\u001b[0m\u001b[0;34m[\u001b[0m\u001b[0;36m1\u001b[0m\u001b[0;34m]\u001b[0m\u001b[0;34m\u001b[0m\u001b[0;34m\u001b[0m\u001b[0m\n",
      "\u001b[0;32m~/github.com/rnmourao/orpy/venv/lib/python3.7/site-packages/pyomo/core/base/constraint.py\u001b[0m in \u001b[0;36mconstruct\u001b[0;34m(self, data)\u001b[0m\n\u001b[1;32m    788\u001b[0m                            err))\n\u001b[1;32m    789\u001b[0m                     \u001b[0;32mraise\u001b[0m\u001b[0;34m\u001b[0m\u001b[0;34m\u001b[0m\u001b[0m\n\u001b[0;32m--> 790\u001b[0;31m                 \u001b[0mself\u001b[0m\u001b[0;34m.\u001b[0m\u001b[0m_setitem_when_not_present\u001b[0m\u001b[0;34m(\u001b[0m\u001b[0mndx\u001b[0m\u001b[0;34m,\u001b[0m \u001b[0mtmp\u001b[0m\u001b[0;34m)\u001b[0m\u001b[0;34m\u001b[0m\u001b[0;34m\u001b[0m\u001b[0m\n\u001b[0m\u001b[1;32m    791\u001b[0m         \u001b[0mtimer\u001b[0m\u001b[0;34m.\u001b[0m\u001b[0mreport\u001b[0m\u001b[0;34m(\u001b[0m\u001b[0;34m)\u001b[0m\u001b[0;34m\u001b[0m\u001b[0;34m\u001b[0m\u001b[0m\n\u001b[1;32m    792\u001b[0m \u001b[0;34m\u001b[0m\u001b[0m\n",
      "\u001b[0;32m~/github.com/rnmourao/orpy/venv/lib/python3.7/site-packages/pyomo/core/base/constraint.py\u001b[0m in \u001b[0;36m_setitem_when_not_present\u001b[0;34m(self, index, value)\u001b[0m\n\u001b[1;32m    712\u001b[0m \u001b[0;34m\u001b[0m\u001b[0m\n\u001b[1;32m    713\u001b[0m     \u001b[0;32mdef\u001b[0m \u001b[0m_setitem_when_not_present\u001b[0m\u001b[0;34m(\u001b[0m\u001b[0mself\u001b[0m\u001b[0;34m,\u001b[0m \u001b[0mindex\u001b[0m\u001b[0;34m,\u001b[0m \u001b[0mvalue\u001b[0m\u001b[0;34m)\u001b[0m\u001b[0;34m:\u001b[0m\u001b[0;34m\u001b[0m\u001b[0;34m\u001b[0m\u001b[0m\n\u001b[0;32m--> 714\u001b[0;31m         \u001b[0;32mif\u001b[0m \u001b[0mself\u001b[0m\u001b[0;34m.\u001b[0m\u001b[0m_check_skip_add\u001b[0m\u001b[0;34m(\u001b[0m\u001b[0mindex\u001b[0m\u001b[0;34m,\u001b[0m \u001b[0mvalue\u001b[0m\u001b[0;34m)\u001b[0m \u001b[0;32mis\u001b[0m \u001b[0;32mNone\u001b[0m\u001b[0;34m:\u001b[0m\u001b[0;34m\u001b[0m\u001b[0;34m\u001b[0m\u001b[0m\n\u001b[0m\u001b[1;32m    715\u001b[0m             \u001b[0;32mreturn\u001b[0m \u001b[0;32mNone\u001b[0m\u001b[0;34m\u001b[0m\u001b[0;34m\u001b[0m\u001b[0m\n\u001b[1;32m    716\u001b[0m         \u001b[0;32melse\u001b[0m\u001b[0;34m:\u001b[0m\u001b[0;34m\u001b[0m\u001b[0;34m\u001b[0m\u001b[0m\n",
      "\u001b[0;32m~/github.com/rnmourao/orpy/venv/lib/python3.7/site-packages/pyomo/core/base/constraint.py\u001b[0m in \u001b[0;36m_check_skip_add\u001b[0;34m(self, index, expr)\u001b[0m\n\u001b[1;32m    889\u001b[0m                        \u001b[0mexpr\u001b[0m \u001b[0;32mand\u001b[0m \u001b[0;34m\"Feasible\"\u001b[0m \u001b[0;32mor\u001b[0m \u001b[0;34m\"Infeasible\"\u001b[0m\u001b[0;34m,\u001b[0m\u001b[0;34m\u001b[0m\u001b[0;34m\u001b[0m\u001b[0m\n\u001b[1;32m    890\u001b[0m                        \u001b[0mexpr\u001b[0m\u001b[0;34m,\u001b[0m\u001b[0;34m\u001b[0m\u001b[0;34m\u001b[0m\u001b[0m\n\u001b[0;32m--> 891\u001b[0;31m                        _get_indexed_component_data_name(self,index)))\n\u001b[0m\u001b[1;32m    892\u001b[0m \u001b[0;34m\u001b[0m\u001b[0m\n\u001b[1;32m    893\u001b[0m         \u001b[0;31m#\u001b[0m\u001b[0;34m\u001b[0m\u001b[0;34m\u001b[0m\u001b[0;34m\u001b[0m\u001b[0m\n",
      "\u001b[0;31mValueError\u001b[0m: Invalid constraint expression. The constraint expression resolved to a trivial Boolean (True) instead of a Pyomo object. Please modify your rule to return Constraint.Feasible instead of True.\n\nError thrown for Constraint 'sales_potential_constraint[1]'"
     ]
    }
   ],
   "source": [
    "instance = model.create_instance(data)\n",
    "instance.pprint()"
   ]
  },
  {
   "cell_type": "code",
   "execution_count": 0,
   "metadata": {},
   "outputs": [],
   "source": [
    "opt = SolverFactory('glpk')"
   ]
  },
  {
   "cell_type": "code",
   "execution_count": 0,
   "metadata": {},
   "outputs": [],
   "source": [
    "results = opt.solve(instance)\n",
    "instance.solutions.store_to(results)\n",
    "print(results)"
   ]
  }
 ]
}