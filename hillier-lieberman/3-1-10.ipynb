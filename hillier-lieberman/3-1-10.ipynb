{
 "cells": [
  {
   "cell_type": "markdown",
   "execution_count": null,
   "metadata": {},
   "outputs": [],
   "source": [
    "Weenies and Buns is a food processing plant which manufactures hot dogs and hot dog buns. They grind their own flour for the hot dog buns at a maximum rate of $200$ pounds per week. Each hot dog bun requires $0.1$ pound of flour. \n",
    "\n",
    "They currently have a contract with Pigland, Inc., which specifies that a delivery of $800$ pounds of pork product is delivered every Monday. Each hot dog requires $1/4$ pound of pork product. \n",
    "\n",
    "All the other ingredients in the hot dogs and hot dog buns are in plentiful supply. \n",
    "\n",
    "Finally, the labor force at Weenies and Buns consists of $5$ employees working full time (40 hours per week each). Each hot dog requires $3$ minutes of labor, and each hot dog bun requires $2$ minutes of labor. \n",
    "\n",
    "Each hot dog yields a profit of $\\$0.80$, and each bun yields a profit of $\\$0.30$. Weenies and Buns would like to know how many hot dogs and how many hot dog buns they should produce each week so as to achieve the highest possible profit."
   ]
  },
  {
   "cell_type": "code",
   "execution_count": 1,
   "metadata": {},
   "outputs": [],
   "source": [
    "from pyomo.environ import *"
   ]
  },
  {
   "cell_type": "code",
   "execution_count": 2,
   "metadata": {},
   "outputs": [],
   "source": [
    "model = AbstractModel()"
   ]
  },
  {
   "cell_type": "markdown",
   "execution_count": null,
   "metadata": {},
   "outputs": [],
   "source": [
    "## Sets"
   ]
  },
  {
   "cell_type": "code",
   "execution_count": 3,
   "metadata": {},
   "outputs": [],
   "source": [
    "model.products = Set()"
   ]
  },
  {
   "cell_type": "markdown",
   "execution_count": null,
   "metadata": {},
   "outputs": [],
   "source": [
    "## Parameters"
   ]
  },
  {
   "cell_type": "code",
   "execution_count": 4,
   "metadata": {},
   "outputs": [],
   "source": [
    "model.products_profit = Param(model.products)\n",
    "model.raw_material_available = Param(model.products)\n",
    "model.raw_material_used_per_product = Param(model.products)\n",
    "model.work_hours_per_unit = Param(model.products)\n",
    "model.number_of_employees = Param()\n",
    "model.work_hours_per_employee = Param()\n"
   ]
  },
  {
   "cell_type": "markdown",
   "execution_count": null,
   "metadata": {},
   "outputs": [],
   "source": [
    "## Variables"
   ]
  },
  {
   "cell_type": "code",
   "execution_count": 5,
   "metadata": {},
   "outputs": [],
   "source": [
    "model.quotas = Var(model.products, within=NonNegativeReals)"
   ]
  },
  {
   "cell_type": "markdown",
   "execution_count": null,
   "metadata": {},
   "outputs": [],
   "source": [
    "## Objective"
   ]
  },
  {
   "cell_type": "code",
   "execution_count": 6,
   "metadata": {},
   "outputs": [],
   "source": [
    "def total_profit(model):\n",
    "    return summation(model.products_profit, model.quotas)\n",
    "\n",
    "\n",
    "model.final_profit = Objective(rule=total_profit, sense=maximize)"
   ]
  },
  {
   "cell_type": "markdown",
   "execution_count": null,
   "metadata": {},
   "outputs": [],
   "source": [
    "## Constraints\n"
   ]
  },
  {
   "cell_type": "code",
   "execution_count": 7,
   "metadata": {},
   "outputs": [],
   "source": [
    "def raw_material(model, product):\n",
    "    return model.raw_material_used_per_product[product] * model.quotas[product] <= model.raw_material_available[product]\n",
    "    \n",
    "model.raw_material_constraint = Constraint(model.products, rule=raw_material)"
   ]
  },
  {
   "cell_type": "code",
   "execution_count": 8,
   "metadata": {},
   "outputs": [],
   "source": [
    "def max_work_hours(model):\n",
    "    return sum(model.work_hours_per_unit[product] * model.quotas[product] for product in model.products) <= model.number_of_employees * model.work_hours_per_employee\n",
    "\n",
    "\n",
    "model.max_work_hours_constraint = Constraint(rule=max_work_hours)"
   ]
  },
  {
   "cell_type": "markdown",
   "execution_count": null,
   "metadata": {},
   "outputs": [],
   "source": [
    "## Instantiate the Model"
   ]
  },
  {
   "cell_type": "code",
   "execution_count": 9,
   "metadata": {},
   "outputs": [],
   "source": [
    "data = { None : { 'products' : { None : ('Hot dog', 'Buns') }, \n",
    "                  'products_profit' : { 'Hot dog' : .80, 'Buns' : .30 },\n",
    "                  'raw_material_available' : { 'Hot dog' : 800, 'Buns' : 200 },\n",
    "                  'raw_material_used_per_product' : { 'Hot dog' : .25, 'Buns' : .10 },\n",
    "                  'work_hours_per_unit' : { 'Hot dog' : 3/float(60), 'Buns' : 2/float(60) },\n",
    "                  'number_of_employees' : {None : 5},\n",
    "                  'work_hours_per_employee' : {None : 40}\n",
    "                }\n",
    "        }"
   ]
  },
  {
   "cell_type": "code",
   "execution_count": 10,
   "metadata": {},
   "outputs": [
    {
     "name": "stdout",
     "output_type": "stream",
     "text": "1 Set Declarations\n    products : Dim=0, Dimen=1, Size=2, Domain=None, Ordered=False, Bounds=None\n        ['Buns', 'Hot dog']\n\n6 Param Declarations\n    number_of_employees : Size=1, Index=None, Domain=Any, Default=None, Mutable=False\n        Key  : Value\n        None :     5\n    products_profit : Size=2, Index=products, Domain=Any, Default=None, Mutable=False\n        Key     : Value\n           Buns :   0.3\n        Hot dog :   0.8\n    raw_material_available : Size=2, Index=products, Domain=Any, Default=None, Mutable=False\n        Key     : Value\n           Buns :   200\n        Hot dog :   800\n    raw_material_used_per_product : Size=2, Index=products, Domain=Any, Default=None, Mutable=False\n        Key     : Value\n           Buns :   0.1\n        Hot dog :  0.25\n    work_hours_per_employee : Size=1, Index=None, Domain=Any, Default=None, Mutable=False\n        Key  : Value\n        None :    40\n    work_hours_per_unit : Size=2, Index=products, Domain=Any, Default=None, Mutable=False\n        Key     : Value\n           Buns : 0.03333333333333333\n        Hot dog :                0.05\n\n1 Var Declarations\n    quotas : Size=2, Index=products\n        Key     : Lower : Value : Upper : Fixed : Stale : Domain\n           Buns :     0 :  None :  None : False :  True : NonNegativeReals\n        Hot dog :     0 :  None :  None : False :  True : NonNegativeReals\n\n1 Objective Declarations\n    final_profit : Size=1, Index=None, Active=True\n        Key  : Active : Sense    : Expression\n        None :   True : maximize : 0.8*quotas[Hot dog] + 0.3*quotas[Buns]\n\n2 Constraint Declarations\n    max_work_hours_constraint : Size=1, Index=None, Active=True\n        Key  : Lower : Body                                                    : Upper : Active\n        None :  -Inf : 0.05*quotas[Hot dog] + 0.03333333333333333*quotas[Buns] : 200.0 :   True\n    raw_material_constraint : Size=2, Index=products, Active=True\n        Key     : Lower : Body                 : Upper : Active\n           Buns :  -Inf :     0.1*quotas[Buns] : 200.0 :   True\n        Hot dog :  -Inf : 0.25*quotas[Hot dog] : 800.0 :   True\n\n11 Declarations: products products_profit raw_material_available raw_material_used_per_product work_hours_per_unit number_of_employees work_hours_per_employee quotas final_profit raw_material_constraint max_work_hours_constraint\n"
    }
   ],
   "source": [
    "instance = model.create_instance(data)\n",
    "instance.pprint()"
   ]
  },
  {
   "cell_type": "markdown",
   "execution_count": null,
   "metadata": {},
   "outputs": [],
   "source": [
    "## Solve the problem"
   ]
  },
  {
   "cell_type": "code",
   "execution_count": 11,
   "metadata": {},
   "outputs": [],
   "source": [
    "opt = SolverFactory('glpk')"
   ]
  },
  {
   "cell_type": "code",
   "execution_count": 12,
   "metadata": {},
   "outputs": [
    {
     "name": "stdout",
     "output_type": "stream",
     "text": "\nProblem: \n- Name: unknown\n  Lower bound: 2920.0\n  Upper bound: 2920.0\n  Number of objectives: 1\n  Number of constraints: 4\n  Number of variables: 3\n  Number of nonzeros: 5\n  Sense: maximize\nSolver: \n- Status: ok\n  Termination condition: optimal\n  Statistics: \n    Branch and bound: \n      Number of bounded subproblems: 0\n      Number of created subproblems: 0\n  Error rc: 0\n  Time: 0.011947154998779297\nSolution: \n- number of solutions: 1\n  number of solutions displayed: 1\n- Gap: 0.0\n  Status: feasible\n  Message: None\n  Objective:\n    final_profit:\n      Value: 2920\n  Variable:\n    quotas[Buns]:\n      Value: 1200\n    quotas[Hot dog]:\n      Value: 3200\n  Constraint: No values\n\n"
    }
   ],
   "source": [
    "results = opt.solve(instance)\n",
    "instance.solutions.store_to(results)\n",
    "print(results)"
   ]
  }
 ],
 "metadata": {},
 "nbformat": 4,
 "nbformat_minor": 2
}